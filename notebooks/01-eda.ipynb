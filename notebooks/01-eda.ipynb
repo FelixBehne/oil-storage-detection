{
 "cells": [
  {
   "cell_type": "markdown",
   "metadata": {},
   "source": [
    "# Eploratory Data Analysis\n",
    "\n",
    "This notebook is partly adapted from: \n",
    "* https://www.kaggle.com/code/jeffaudi/eda-airbus-oil-storage-tanks-dataset"
   ]
  },
  {
   "cell_type": "code",
   "execution_count": 2,
   "metadata": {},
   "outputs": [
    {
     "name": "stdout",
     "output_type": "stream",
     "text": [
      "2022-05-29 17:05:27,388 - kedro.extras.extensions.ipython - INFO - Updated path to Kedro project: /home/behne@ab.ba.ba-ravensburg.de/GitHub/oil-storage-detection\n",
      "2022-05-29 17:05:27,666 - kedro.framework.session.store - INFO - `read()` not implemented for `BaseSessionStore`. Assuming empty store.\n",
      "\u001b[32m2022-05-29 17:05:29,623 - kedro.extras.extensions.ipython - INFO - ** Kedro project Oil Storage Detection\u001b[0m\n",
      "\u001b[32m2022-05-29 17:05:29,625 - kedro.extras.extensions.ipython - INFO - Defined global variable `context`, `session`, `catalog` and `pipelines`\u001b[0m\n",
      "\u001b[33m2022-05-29 17:05:29,789 - kedro.extras.extensions.ipython - WARNING - Kedro extension was registered but couldn't find a Kedro project. Make sure you run `%reload_kedro <path_to_kedro_project>`.\u001b[0m\n",
      "\u001b[32m2022-05-29 17:05:29,792 - kedro.io.data_catalog - INFO - Loading data from `annotations` (CSVDataSet)...\u001b[0m\n"
     ]
    }
   ],
   "source": [
    "import os\n",
    "from ast import literal_eval\n",
    "\n",
    "import pandas as pd\n",
    "import numpy as np\n",
    "import PIL.ImageDraw\n",
    "from IPython.display import display\n",
    "from matplotlib import pyplot as plt\n",
    "import seaborn as sns\n",
    "\n",
    "# disable tensorflow logging \n",
    "os.environ['TF_CPP_MIN_LOG_LEVEL'] = '3' \n",
    "\n",
    "# load kedro variables \n",
    "%load_ext kedro.extras.extensions.ipython\n",
    "\n",
    "# read data \n",
    "annotations = catalog.load(\"annotations\")"
   ]
  },
  {
   "cell_type": "code",
   "execution_count": null,
   "metadata": {},
   "outputs": [],
   "source": [
    "# show the number of objects per image\n",
    "with sns.axes_style(\"white\"):\n",
    "    plt.figure(figsize=(25, 15))\n",
    "    plt.title(\"Number of Oil Storage Tanks per image\")\n",
    "    g = sns.countplot(\n",
    "        x=\"image_id\",\n",
    "        data=annotations.merge(\n",
    "            pd.DataFrame(annotations.image_id.value_counts())\n",
    "            .reset_index(drop=False)\n",
    "            .rename(columns={\"index\": \"image_id\", \"image_id\": \"object_count\"})\n",
    "        )\n",
    "        .sort_values(by=\"object_count\")\n",
    "        .reset_index(drop=True),\n",
    "        palette=\"bright\"\n",
    "    )\n",
    "    plt.xlabel(\"image_id\")\n",
    "    plt.ylabel(\"n row per image_id\")\n",
    "\n",
    "    # Rotate x labels\n",
    "    g.set_xticklabels(labels=g.get_xticklabels(), rotation=90)  \n",
    "\n",
    "\n",
    "    os.makedirs(\"../data/08_reporting/plots\", exist_ok=True)\n",
    "    plt.savefig(\"../data/08_reporting/plots/number_objects_per_image.png\", transparent=True)"
   ]
  },
  {
   "cell_type": "code",
   "execution_count": 3,
   "metadata": {},
   "outputs": [],
   "source": [
    "# convert bounds to python object\n",
    "annotations[\"bounds\"] = annotations[\"bounds\"].apply(\n",
    "    lambda x: literal_eval(str(x).rstrip(\"\\r\\n\"))\n",
    ")\n",
    "\n",
    "# explode bounds col\n",
    "annotations = pd.concat(\n",
    "    [\n",
    "        annotations,\n",
    "        pd.DataFrame(\n",
    "            annotations[\"bounds\"].tolist(),\n",
    "            index=annotations.index,\n",
    "            columns=[\"bbox_x1\", \"bbox_y1\", \"bbox_x2\", \"bbox_y2\"],\n",
    "        ),\n",
    "    ],\n",
    "    axis=1,\n",
    ")\n",
    "\n",
    "geometry1 = []\n",
    "\n",
    "def draw_bboxes(image_id: str, labels: pd.DataFrame) -> None:\n",
    "    \"\"\"Draws rectangular boundings boxes on a given image.\n",
    "\n",
    "    Args:\n",
    "        image (PIL.Image): Image to draw boxes on. \n",
    "        labels (pd.DataFrame): Labels dataframe containing the geometries\n",
    "\n",
    "    Returns:\n",
    "        None: None.\n",
    "    \"\"\"\n",
    "\n",
    "    for _, row in labels[labels[\"image_id\"] == image_id].iterrows():\n",
    "        geometry = np.array([\n",
    "            (row[\"bbox_x1\"], [\"bbox_y1\"]),\n",
    "            (row[\"bbox_x1\"], [\"bbox_y2\"]),\n",
    "            (row[\"bbox_x2\"], [\"bbox_y2\"]),\n",
    "            (row[\"bbox_x2\"], [\"bbox_y1\"]),\n",
    "            (row[\"bbox_x1\"], [\"bbox_y1\"]),\n",
    "        ])\n",
    "        PIL.ImageDraw.Draw(\n",
    "            PIL.Image.open(\"../data/01_raw\" + \"/images/\" + image_id + \".jpg\")\n",
    "        ).polygon(\n",
    "            geometry, outline=(255, 0, 0),\n",
    "        )\n",
    "    return img"
   ]
  },
  {
   "cell_type": "code",
   "execution_count": 4,
   "metadata": {},
   "outputs": [
    {
     "name": "stderr",
     "output_type": "stream",
     "text": [
      "/tmp/ipykernel_1962999/3274964450.py:33: VisibleDeprecationWarning: Creating an ndarray from ragged nested sequences (which is a list-or-tuple of lists-or-tuples-or ndarrays with different lengths or shapes) is deprecated. If you meant to do this, you must specify 'dtype=object' when creating the ndarray.\n",
      "  geometry = np.array([\n"
     ]
    }
   ],
   "source": [
    "img = draw_bboxes(\"1fcb9fee-da89-43f8-83d9-b5d17575f5e6\", annotations)\n",
    "display(img)"
   ]
  },
  {
   "cell_type": "code",
   "execution_count": null,
   "metadata": {},
   "outputs": [],
   "source": []
  }
 ],
 "metadata": {
  "interpreter": {
   "hash": "ba2a370e0a0b46148d0bc6f0dacc2945484703f96f66df7fdf5d2762f5da2b4c"
  },
  "kernelspec": {
   "display_name": "Python 3.8.0 ('osd')",
   "language": "python",
   "name": "python3"
  },
  "language_info": {
   "codemirror_mode": {
    "name": "ipython",
    "version": 3
   },
   "file_extension": ".py",
   "mimetype": "text/x-python",
   "name": "python",
   "nbconvert_exporter": "python",
   "pygments_lexer": "ipython3",
   "version": "3.8.0"
  },
  "orig_nbformat": 4
 },
 "nbformat": 4,
 "nbformat_minor": 2
}
