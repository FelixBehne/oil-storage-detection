{
 "cells": [
  {
   "cell_type": "code",
   "execution_count": 2,
   "metadata": {},
   "outputs": [
    {
     "name": "stderr",
     "output_type": "stream",
     "text": [
      "2022-05-28 10:56:17.173046: I tensorflow/core/util/util.cc:169] oneDNN custom operations are on. You may see slightly different numerical results due to floating-point round-off errors from different computation orders. To turn them off, set the environment variable `TF_ENABLE_ONEDNN_OPTS=0`.\n"
     ]
    }
   ],
   "source": [
    "import os\n",
    "import shutil\n",
    "from ast import literal_eval\n",
    "from glob import glob\n",
    "\n",
    "import pandas as pd\n",
    "import tensorflow as tf\n",
    "from sklearn.model_selection import train_test_split"
   ]
  },
  {
   "cell_type": "markdown",
   "metadata": {},
   "source": [
    "# Data Preparation\n",
    "In this notebook, the data will be loaded, a train-test split will be performed, and the data will be saved to tfrecord files."
   ]
  },
  {
   "cell_type": "markdown",
   "metadata": {},
   "source": [
    "# Load Data"
   ]
  },
  {
   "cell_type": "markdown",
   "metadata": {},
   "source": [
    "## Part 1: Images\n",
    "\n",
    "Create a dataframe containing the image names. We need this so we can perform a train-test-split on the images as well."
   ]
  },
  {
   "cell_type": "code",
   "execution_count": 3,
   "metadata": {},
   "outputs": [
    {
     "name": "stdout",
     "output_type": "stream",
     "text": [
      "Number of images in folder: 98\n"
     ]
    },
    {
     "data": {
      "text/html": [
       "<div>\n",
       "<style scoped>\n",
       "    .dataframe tbody tr th:only-of-type {\n",
       "        vertical-align: middle;\n",
       "    }\n",
       "\n",
       "    .dataframe tbody tr th {\n",
       "        vertical-align: top;\n",
       "    }\n",
       "\n",
       "    .dataframe thead th {\n",
       "        text-align: right;\n",
       "    }\n",
       "</style>\n",
       "<table border=\"1\" class=\"dataframe\">\n",
       "  <thead>\n",
       "    <tr style=\"text-align: right;\">\n",
       "      <th></th>\n",
       "      <th>image_id</th>\n",
       "    </tr>\n",
       "  </thead>\n",
       "  <tbody>\n",
       "    <tr>\n",
       "      <th>0</th>\n",
       "      <td>28483ab7-42f0-4343-af24-f8076dbdf2f9</td>\n",
       "    </tr>\n",
       "    <tr>\n",
       "      <th>1</th>\n",
       "      <td>ea75050f-d6a4-4356-9314-0f17b05e972c</td>\n",
       "    </tr>\n",
       "    <tr>\n",
       "      <th>2</th>\n",
       "      <td>3542adbf-145b-4986-8f01-76cfffa9dcca</td>\n",
       "    </tr>\n",
       "    <tr>\n",
       "      <th>3</th>\n",
       "      <td>b33b9176-6d05-4603-9c2a-782b5d0ea140</td>\n",
       "    </tr>\n",
       "    <tr>\n",
       "      <th>4</th>\n",
       "      <td>5529501e-5b67-4a9f-bedd-efb785b78ce2</td>\n",
       "    </tr>\n",
       "  </tbody>\n",
       "</table>\n",
       "</div>"
      ],
      "text/plain": [
       "                               image_id\n",
       "0  28483ab7-42f0-4343-af24-f8076dbdf2f9\n",
       "1  ea75050f-d6a4-4356-9314-0f17b05e972c\n",
       "2  3542adbf-145b-4986-8f01-76cfffa9dcca\n",
       "3  b33b9176-6d05-4603-9c2a-782b5d0ea140\n",
       "4  5529501e-5b67-4a9f-bedd-efb785b78ce2"
      ]
     },
     "execution_count": 3,
     "metadata": {},
     "output_type": "execute_result"
    }
   ],
   "source": [
    "# Location of dataset\n",
    "DATASET_PATH = \"../data/01_raw\"\n",
    "\n",
    "# List all images in the folder\n",
    "image_list = [\n",
    "    filename.split(\"/\")[-1].split(\".\")[0]\n",
    "    for filename in glob(DATASET_PATH + \"/images/*.jpg\")\n",
    "]\n",
    "image_ids = pd.DataFrame(image_list).rename(columns={0: \"image_id\"})\n",
    "print(\"Number of images in folder: {}\".format(len(image_ids)))\n",
    "\n",
    "image_ids.head()"
   ]
  },
  {
   "cell_type": "markdown",
   "metadata": {},
   "source": [
    "## Part 2: Annotations\n",
    "\n",
    "Import the annotations. We perform transformations on import:\n",
    "1. convert the string representation of the bounding boxes to python objects"
   ]
  },
  {
   "cell_type": "code",
   "execution_count": null,
   "metadata": {},
   "outputs": [],
   "source": [
    "# convert a string record into a valid python object\n",
    "def convert_string_to_python_object(x):\n",
    "    return literal_eval(x.rstrip(\"\\r\\n\"))\n",
    "\n",
    "# read the CSV with annotations\n",
    "labels = pd.read_csv(\n",
    "    DATASET_PATH + \"/annotations.csv\",\n",
    "    converters={\"bounds\": convert_string_to_python_object},\n",
    ")\n",
    "\n",
    "\n",
    "labels.head()"
   ]
  },
  {
   "cell_type": "markdown",
   "metadata": {},
   "source": [
    "# Train Test Split\n",
    "\n",
    "The train test split is performed on the image names. We split the dataset into three parts:\n",
    "- **train**: the split used for training\n",
    "- **val**: the split used to evaluate the generalization performance of the model during training and to tune the hyperparameters for generalization\n",
    "- **test**: the split to finally evaluate the model after the training has finished"
   ]
  },
  {
   "cell_type": "code",
   "execution_count": null,
   "metadata": {},
   "outputs": [],
   "source": [
    "train_image_names, test_image_names = train_test_split(image_list, test_size=0.2)\n",
    "val_image_names, test_image_names = train_test_split(test_image_names, test_size=0.5)\n",
    "\n",
    "print(\n",
    "    f\"The trainings dataset contains {len(train_image_names)} images. Thats {round(len(train_image_names)/len(image_list) *100)}%.\"\n",
    ")\n",
    "print(\n",
    "    f\"The test dataset contains {len(test_image_names)} images. Thats {round(len(test_image_names)/len(image_list) *100)}%.\"\n",
    ")\n",
    "print(\n",
    "    f\"The validation dataset contains {len(val_image_names)} images. Thats {round(len(val_image_names)/len(image_list) *100)}%.\"\n",
    ")"
   ]
  },
  {
   "cell_type": "markdown",
   "metadata": {},
   "source": [
    "## Export The Data\n",
    "The images are saved into new, seperated folders according to the splits.\n",
    "\n",
    "The annotations are saved into seperate .csv files according to the splits."
   ]
  },
  {
   "cell_type": "code",
   "execution_count": null,
   "metadata": {},
   "outputs": [],
   "source": [
    "# add bounding box information\n",
    "train_df = labels[labels[\"image_id\"].isin(train_image_names)]\n",
    "valid_df = labels[labels[\"image_id\"].isin(val_image_names)]\n",
    "test_df = labels[labels[\"image_id\"].isin(test_image_names)]\n",
    "\n",
    "# write datasets to disk\n",
    "os.makedirs(\"../data/04_feature/annotations\", exist_ok=True)\n",
    "train_df.to_csv(\"../data/04_feature/annotations/train.csv\", index=False)\n",
    "valid_df.to_csv(\"../data/04_feature/annotations/valid.csv\", index=False)\n",
    "test_df.to_csv(\"../data/04_feature/annotations/test.csv\", index=False)\n",
    "\n",
    "# copy images to model_input folder\n",
    "os.makedirs(\"../data/04_feature/images/train\", exist_ok=True)\n",
    "for image_name in train_image_names:\n",
    "    shutil.copy(\n",
    "        f\"../data/01_raw/images/{image_name}.jpg\",\n",
    "        f\"../data/04_feature/images/train/{image_name}.jpg\",\n",
    "    )\n",
    "os.makedirs(\"../data/04_feature/images/validation\", exist_ok=True)\n",
    "for image_name in val_image_names:\n",
    "    shutil.copy(\n",
    "        f\"../data/01_raw/images/{image_name}.jpg\",\n",
    "        f\"../data/04_feature/images/validation/{image_name}.jpg\",\n",
    "    )\n",
    "os.makedirs(\"../data/04_feature/images/test\", exist_ok=True)\n",
    "for image_name in test_image_names:\n",
    "    shutil.copy(\n",
    "        f\"../data/01_raw/images/{image_name}.jpg\",\n",
    "        f\"../data/04_feature/images/test/{image_name}.jpg\",\n",
    "    )"
   ]
  },
  {
   "cell_type": "markdown",
   "metadata": {},
   "source": [
    "# Convert data to tensorflow records dataset\n",
    "\n",
    "The Tensorflow object detection API requires the data to be in a specific tensorflow-records format. The tf-records format is a binary, dict-like structure that contains both the images and their annotations."
   ]
  },
  {
   "cell_type": "code",
   "execution_count": 2,
   "metadata": {},
   "outputs": [],
   "source": [
    "from __future__ import annotations\n",
    "\n",
    "from ast import literal_eval\n",
    "from pathlib import Path\n",
    "\n",
    "import tensorflow.compat.v1 as tf\n",
    "from object_detection.utils import dataset_util, label_map_util"
   ]
  },
  {
   "cell_type": "markdown",
   "metadata": {},
   "source": [
    "## Define util functions\n",
    "`create_tf_records_from_files()`\n",
    "\n",
    "This method takes an image path, an annotations path and the image_size and creates a list of tensorflow records, each record stands for one image and its annotations.\n",
    "\n",
    "The methods requires the images to be square, and the image_path to only contain the images that have annotations in the annotations path.\n",
    "\n",
    "The method performs the following transformations:\n",
    "- image-data is read from file and encoded to binary\n",
    "- bounding box coordinates are extracted from the input strings\n",
    "- all string (image file name, class name, ..) are encoded with utf8\n",
    "- bounding box coordinates are put into relative form (they are devided by their respecive image dimension)"
   ]
  },
  {
   "cell_type": "code",
   "execution_count": 3,
   "metadata": {},
   "outputs": [],
   "source": [
    "def create_tf_records_from_files(\n",
    "    image_path: str | Path, annotations_file_path: str | Path, image_size: int\n",
    ") -> list[tf.train.Example]:\n",
    "\n",
    "    image_path = Path(image_path)\n",
    "    annotations_file_path = Path(annotations_file_path)\n",
    "\n",
    "    annotations = pd.read_csv(annotations_file_path)\n",
    "\n",
    "    def expand_bbox_coordinates(row: pd.Series):\n",
    "        bbox_as_tuple = literal_eval(row[\"bounds\"])\n",
    "        row[\"bbox_x1\"] = bbox_as_tuple[0]\n",
    "        row[\"bbox_y1\"] = bbox_as_tuple[1]\n",
    "        row[\"bbox_x2\"] = bbox_as_tuple[2]\n",
    "        row[\"bbox_y2\"] = bbox_as_tuple[3]\n",
    "\n",
    "        return row\n",
    "\n",
    "    annotations = annotations.apply(expand_bbox_coordinates, 1)\n",
    "\n",
    "    annotations.drop([\"class\", \"bounds\"], axis=1, inplace=True)\n",
    "\n",
    "    image_filenames = os.listdir(image_path)\n",
    "\n",
    "    tf_records = []\n",
    "\n",
    "    for image_filename in image_filenames:\n",
    "        with tf.gfile.GFile(image_path / image_filename, \"rb\") as fid:\n",
    "            encoded_jpg = fid.read()\n",
    "\n",
    "        image_width = image_size\n",
    "        image_height = image_size\n",
    "\n",
    "        filename = image_filename.encode(\"utf8\")\n",
    "        image_format = b\"jpg\"\n",
    "\n",
    "        annotations_filtered = annotations[\n",
    "            annotations[\"image_id\"] == image_filename[:-4]\n",
    "        ]\n",
    "\n",
    "        xmins = annotations_filtered[\"bbox_x1\"].values / image_width\n",
    "        xmaxs = annotations_filtered[\"bbox_x2\"].values / image_width\n",
    "        ymins = annotations_filtered[\"bbox_y1\"].values / image_height\n",
    "        ymaxs = annotations_filtered[\"bbox_y2\"].values / image_height\n",
    "\n",
    "        class_name = \"OST\".encode(\"utf8\")\n",
    "\n",
    "        classes_text = [class_name for i in range(len(xmins))]\n",
    "        classes = [1 for i in range(len(xmins))]\n",
    "\n",
    "        tf_records.append(\n",
    "            tf.train.Example(\n",
    "                features=tf.train.Features(\n",
    "                    feature={\n",
    "                        \"image/height\": dataset_util.int64_feature(image_height),\n",
    "                        \"image/width\": dataset_util.int64_feature(image_width),\n",
    "                        \"image/filename\": dataset_util.bytes_feature(filename),\n",
    "                        \"image/source_id\": dataset_util.bytes_feature(filename),\n",
    "                        \"image/encoded\": dataset_util.bytes_feature(encoded_jpg),\n",
    "                        \"image/format\": dataset_util.bytes_feature(image_format),\n",
    "                        \"image/object/bbox/xmin\": dataset_util.float_list_feature(\n",
    "                            xmins\n",
    "                        ),\n",
    "                        \"image/object/bbox/xmax\": dataset_util.float_list_feature(\n",
    "                            xmaxs\n",
    "                        ),\n",
    "                        \"image/object/bbox/ymin\": dataset_util.float_list_feature(\n",
    "                            ymins\n",
    "                        ),\n",
    "                        \"image/object/bbox/ymax\": dataset_util.float_list_feature(\n",
    "                            ymaxs\n",
    "                        ),\n",
    "                        \"image/object/class/text\": dataset_util.bytes_list_feature(\n",
    "                            classes_text\n",
    "                        ),\n",
    "                        \"image/object/class/label\": dataset_util.int64_list_feature(\n",
    "                            classes\n",
    "                        ),\n",
    "                    }\n",
    "                )\n",
    "            )\n",
    "        )\n",
    "\n",
    "    return tf_records"
   ]
  },
  {
   "cell_type": "markdown",
   "metadata": {},
   "source": [
    "`save_tf_records_to_file()`\n",
    "\n",
    "save a list of tf_records to a specified output_path"
   ]
  },
  {
   "cell_type": "code",
   "execution_count": null,
   "metadata": {},
   "outputs": [],
   "source": [
    "def save_tf_records_to_file(\n",
    "    tf_records: list[tf.train.Example], output_path: str | Path\n",
    "):\n",
    "    writer = tf.python_io.TFRecordWriter(output_path)\n",
    "\n",
    "    for record in tf_records:\n",
    "        writer.write(record.SerializeToString())\n",
    "    writer.close()"
   ]
  },
  {
   "cell_type": "markdown",
   "metadata": {},
   "source": [
    "`label_map()`\n",
    "\n",
    "create a single object label map and and save it to a file. \n",
    "The label map is required by the training script of the TensorFlow object detection API."
   ]
  },
  {
   "cell_type": "code",
   "execution_count": null,
   "metadata": {},
   "outputs": [],
   "source": [
    "def label_map(file_path: str, objname: str):\n",
    "    with open(Path(file_path), \"a\") as the_file:\n",
    "        the_file.write(\"item\\n\")\n",
    "        the_file.write(\"{\\n\")\n",
    "        the_file.write(\"id :{}\".format(int(1)))\n",
    "        the_file.write(\"\\n\")\n",
    "        the_file.write(\"name :'{0}'\".format(str(objname)))\n",
    "        the_file.write(\"\\n\")\n",
    "        the_file.write(\"}\\n\")"
   ]
  },
  {
   "cell_type": "markdown",
   "metadata": {},
   "source": [
    "## Write data\n",
    "Apply the defined methods to all three splits."
   ]
  },
  {
   "cell_type": "code",
   "execution_count": 4,
   "metadata": {},
   "outputs": [],
   "source": [
    "# create label map with one object: oil-storage-tank (OSD)\n",
    "label_map(\"../data/04_feature/annotations/label_map.pbtxt\", \"OSD\")\n",
    "\n",
    "# create tfrecords from images and annotations \n",
    "tf_train_records = create_tf_records_from_files(\n",
    "    \"../data/04_feature/images/train/\",\n",
    "    \"../data/04_feature/annotations/train.csv\",\n",
    "    1280,\n",
    ")\n",
    "\n",
    "tf_test_records = create_tf_records_from_files(\n",
    "    \"../data/04_feature/images/test/\",\n",
    "    \"../data/04_feature/annotations/test.csv\",\n",
    "    1280,\n",
    ")\n",
    "\n",
    "tf_valid_records = create_tf_records_from_files(\n",
    "    \"../data/04_feature/images/validation/\",\n",
    "    \"../data/04_feature/annotations/valid.csv\",\n",
    "    1280,\n",
    ")\n",
    "\n",
    "# write tfrecord files to disk \n",
    "save_tf_records_to_file(tf_train_records, \"../data/05_model_input/train.record\")\n",
    "\n",
    "save_tf_records_to_file(tf_test_records, \"../data/05_model_input/test.record\")\n",
    "\n",
    "save_tf_records_to_file(tf_valid_records, \"../data/05_model_input/valid.record\")"
   ]
  },
  {
   "cell_type": "code",
   "execution_count": null,
   "metadata": {},
   "outputs": [],
   "source": []
  }
 ],
 "metadata": {
  "interpreter": {
   "hash": "9763b797e91abcff88b30fb0158ca9b9621827488e019d1a51bbfc7ee01b7128"
  },
  "kernelspec": {
   "display_name": "Python 3.8.13",
   "language": "python",
   "name": "python3"
  },
  "language_info": {
   "codemirror_mode": {
    "name": "ipython",
    "version": 3
   },
   "file_extension": ".py",
   "mimetype": "text/x-python",
   "name": "python",
   "nbconvert_exporter": "python",
   "pygments_lexer": "ipython3",
   "version": "3.8.13"
  },
  "orig_nbformat": 4
 },
 "nbformat": 4,
 "nbformat_minor": 2
}
