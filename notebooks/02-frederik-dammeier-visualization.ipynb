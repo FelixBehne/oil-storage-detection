{
 "cells": [
  {
   "cell_type": "code",
   "execution_count": null,
   "id": "10f7d5fc-3b98-43c6-aee6-e1b7113c829e",
   "metadata": {},
   "outputs": [],
   "source": [
    "import os\n",
    "# os.environ['TF_CPP_MIN_LOG_LEVEL'] = '2'    # Suppress TensorFlow logging (1)\n",
    "os.environ['CUDA_ENABLE_DEVICES'] = \"1\"\n",
    "import pathlib\n",
    "import tensorflow as tf\n",
    "\n",
    "import time\n",
    "from object_detection.utils import label_map_util\n",
    "from object_detection.utils import config_util\n",
    "from object_detection.utils import visualization_utils as viz_utils\n",
    "from object_detection.builders import model_builder"
   ]
  },
  {
   "cell_type": "code",
   "execution_count": null,
   "id": "f516bdb1-535f-4d37-a130-cd25178f9eb5",
   "metadata": {},
   "outputs": [],
   "source": [
    "PATH_TO_MODEL_DIR = \"/home/dammeier@ab.ba.ba-ravensburg.de/dev/oil-storage-detection/data/06_models/models/efficientdet_d4\"\n",
    "PATH_TO_CONFIG = PATH_TO_MODEL_DIR + \"/pipeline.config\"\n",
    "PATH_TO_CHECKPOINT = PATH_TO_MODEL_DIR"
   ]
  },
  {
   "cell_type": "code",
   "execution_count": null,
   "id": "4f4df57c-1493-4ac1-aa26-1ca53053a900",
   "metadata": {},
   "outputs": [],
   "source": [
    "print('Loading model... ', end='')\n",
    "start_time = time.time()\n",
    "\n",
    "# Load pipeline confic and build a detection model\n",
    "configs = config_util.get_configs_from_pipeline_file(PATH_TO_CONFIG)\n",
    "model_config = configs['model']\n",
    "detection_model = model_builder.build(model_config=model_config, is_training=False)\n",
    "\n",
    "# Restore checkpoint\n",
    "checkpoint = tf.compat.v2.train.Checkpoint(model=detection_model)\n",
    "checkpoint.restore(os.path.join(PATH_TO_CHECKPOINT, 'ckpt-32')).expect_partial()\n",
    "\n",
    "@tf.function\n",
    "def detect_fn(image):\n",
    "    \"\"\"Detect objects in image.\"\"\"\n",
    "    image, shapes = detection_model.preprocess(image)\n",
    "    prediction_dict = detection_model.predict(image, shapes)\n",
    "    detections = detection_model.postprocess(prediction_dict, shapes)\n",
    "    \n",
    "    return detections\n",
    "\n",
    "end_time = time.time()\n",
    "elapsed_time = end_time - start_time\n",
    "print(f'Done! Took {elapsed_time} seconds')"
   ]
  },
  {
   "cell_type": "code",
   "execution_count": null,
   "id": "85e0243a-7008-415a-aaad-8db869e4d87f",
   "metadata": {},
   "outputs": [],
   "source": [
    "category_index = {1: 'OST'}"
   ]
  },
  {
   "cell_type": "code",
   "execution_count": null,
   "id": "c236a007-3511-4061-b87e-94770cae83d1",
   "metadata": {},
   "outputs": [],
   "source": [
    "import numpy as np\n",
    "from PIL import Image\n",
    "import matplotlib.pyplot as plt\n",
    "import warnings\n",
    "warnings.filterwarnings('ignore') # suppress mpl warnings\n",
    "\n",
    "def load_image_to_numpy_array(image_path):\n",
    "    return np.array(Image.open(image_path))\n",
    "\n",
    "def run_inference_on_image(image_path):\n",
    "    print(f'Running inference for {image_path}...')\n",
    "    \n",
    "    image_np = load_image_to_numpy_array(image_path)\n",
    "    \n",
    "    input_tensor = tf.convert_to_tensor(np.expand_dims(image_np, 0), dtype=tf.float32)\n",
    "    \n",
    "    detections = detect_fn(input_tensor)\n",
    "    \n",
    "    # All outputs are batches tensors.\n",
    "    # Convert to numpy arrays, and take index [0] to remove the batch dimension.\n",
    "    # We're only interested in the first num_detections.\n",
    "    num_detections = int(detections.pop('num_detections'))\n",
    "    detections = {key: value[0, :num_detections].numpy()\n",
    "                  for key, value in detections.items()}\n",
    "    detections['num_detections'] = num_detections\n",
    "\n",
    "    # detection_classes should be ints.\n",
    "    detections['detection_classes'] = detections['detection_classes'].astype(np.int64)\n",
    "\n",
    "    label_id_offset = 1\n",
    "    image_np_with_detections = image_np.copy()\n",
    "\n",
    "    viz_utils.visualize_boxes_and_labels_on_image_array(\n",
    "            image_np_with_detections,\n",
    "            detections['detection_boxes'],\n",
    "            detections['detection_classes']+label_id_offset,\n",
    "            detections['detection_scores'],\n",
    "            category_index,\n",
    "            use_normalized_coordinates=True,\n",
    "            max_boxes_to_draw=200,\n",
    "            min_score_thresh=.30,\n",
    "            agnostic_mode=False)\n",
    "\n",
    "    plt.figure()\n",
    "    plt.imshow(image_np_with_detections)\n",
    "    print('Done')\n",
    "    plt.show()\n",
    "    "
   ]
  },
  {
   "cell_type": "code",
   "execution_count": null,
   "id": "04d9657e-fb39-4f93-a02a-750ad5ef5041",
   "metadata": {},
   "outputs": [],
   "source": [
    "run_inference_on_image('/home/dammeier@ab.ba.ba-ravensburg.de/dev/oil-storage-detection/data/02_intermediate/images/test/4fe78c6c-8c59-4f98-9083-f8117dc19ae0.jpg')"
   ]
  },
  {
   "cell_type": "code",
   "execution_count": null,
   "id": "458081b0-6e1d-4632-8a7d-30b79fb5613b",
   "metadata": {},
   "outputs": [],
   "source": [
    "image_np = load_image_to_numpy_array('/home/dammeier@ab.ba.ba-ravensburg.de/dev/oil-storage-detection/data/02_intermediate/images/test/4fe78c6c-8c59-4f98-9083-f8117dc19ae0.jpg')\n",
    "    \n",
    "input_tensor = tf.convert_to_tensor(np.expand_dims(image_np, 0), dtype=tf.float32)"
   ]
  },
  {
   "cell_type": "code",
   "execution_count": null,
   "id": "f346f636-b548-44e3-976e-2ccb58aecb48",
   "metadata": {},
   "outputs": [],
   "source": [
    "detections = detect_fn(input_tensor)"
   ]
  },
  {
   "cell_type": "code",
   "execution_count": null,
   "id": "d140b100-0397-42ef-bdd9-b97896f24b92",
   "metadata": {},
   "outputs": [],
   "source": [
    "detections"
   ]
  },
  {
   "cell_type": "code",
   "execution_count": null,
   "id": "16b44832-643b-4f59-8a84-bab18db698e8",
   "metadata": {},
   "outputs": [],
   "source": []
  }
 ],
 "metadata": {
  "interpreter": {
   "hash": "9763b797e91abcff88b30fb0158ca9b9621827488e019d1a51bbfc7ee01b7128"
  },
  "kernelspec": {
   "display_name": "Python 3.8.13 ('tensorflow-osd')",
   "language": "python",
   "name": "python3"
  },
  "language_info": {
   "codemirror_mode": {
    "name": "ipython",
    "version": 3
   },
   "file_extension": ".py",
   "mimetype": "text/x-python",
   "name": "python",
   "nbconvert_exporter": "python",
   "pygments_lexer": "ipython3",
   "version": "3.8.13"
  }
 },
 "nbformat": 4,
 "nbformat_minor": 5
}
