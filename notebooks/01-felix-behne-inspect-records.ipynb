{
 "cells": [
  {
   "cell_type": "markdown",
   "metadata": {},
   "source": [
    "# Inspect Tfrecords"
   ]
  },
  {
   "cell_type": "code",
   "execution_count": 1,
   "metadata": {},
   "outputs": [
    {
     "name": "stdout",
     "output_type": "stream",
     "text": [
      "2022-05-26 00:18:47,592 - kedro.extras.extensions.ipython - INFO - Updated path to Kedro project: /home/behne@ab.ba.ba-ravensburg.de/GitHub/oil-storage-detection\n",
      "2022-05-26 00:18:47,962 - kedro.framework.session.store - INFO - `read()` not implemented for `BaseSessionStore`. Assuming empty store.\n",
      "\u001b[32m2022-05-26 00:18:48,125 - kedro.extras.extensions.ipython - INFO - ** Kedro project Oil Storage Detection\u001b[0m\n",
      "\u001b[32m2022-05-26 00:18:48,127 - kedro.extras.extensions.ipython - INFO - Defined global variable `context`, `session`, `catalog` and `pipelines`\u001b[0m\n",
      "\u001b[32m2022-05-26 00:18:49,224 - kedro.extras.extensions.ipython - INFO - Registered line magic `run_viz`\u001b[0m\n"
     ]
    }
   ],
   "source": [
    "\n",
    "import os\n",
    "import warnings\n",
    "from contextlib import redirect_stdout\n",
    "import tensorflow as tf\n",
    "\n",
    "# load kedro variables \n",
    "with warnings.catch_warnings():\n",
    "    warnings.filterwarnings(\"ignore\",category=DeprecationWarning)\n",
    "    %load_ext kedro.extras.extensions.ipython\n",
    "\n",
    "# set tf logger to only log info messages\n",
    "os.environ['TF_CPP_MIN_LOG_LEVEL'] = '3' "
   ]
  },
  {
   "cell_type": "code",
   "execution_count": 2,
   "metadata": {},
   "outputs": [
    {
     "name": "stdout",
     "output_type": "stream",
     "text": [
      "\u001b[32m2022-05-26 00:18:54,599 - kedro.io.data_catalog - INFO - Loading data from `train_records` (TensorflowRecordDataset)...\u001b[0m\n"
     ]
    },
    {
     "data": {
      "text/plain": [
       "<TFRecordDatasetV2 shapes: (), types: tf.string>"
      ]
     },
     "execution_count": 2,
     "metadata": {},
     "output_type": "execute_result"
    }
   ],
   "source": []
  },
  {
   "cell_type": "code",
   "execution_count": 4,
   "metadata": {},
   "outputs": [
    {
     "name": "stdout",
     "output_type": "stream",
     "text": [
      "\u001b[32m2022-05-26 00:20:28,544 - kedro.io.data_catalog - INFO - Loading data from `train_records` (TensorflowRecordDataset)...\u001b[0m\n"
     ]
    }
   ],
   "source": [
    "# read records into python object\n",
    "train_records  = catalog.load(\"train_records\") # pylint:disable"
   ]
  },
  {
   "cell_type": "code",
   "execution_count": 6,
   "metadata": {},
   "outputs": [
    {
     "data": {
      "text/plain": [
       "<TFRecordDatasetV2 shapes: (), types: tf.string>"
      ]
     },
     "execution_count": 6,
     "metadata": {},
     "output_type": "execute_result"
    }
   ],
   "source": [
    "train_records"
   ]
  },
  {
   "cell_type": "code",
   "execution_count": 4,
   "metadata": {},
   "outputs": [],
   "source": [
    "# print first object in record file to std out\n",
    "# for raw_record in train_records.take(1):\n",
    "#   example = tf.train.Example()\n",
    "#   example.ParseFromString(raw_record.numpy())\n",
    "#   print(example)\n",
    "\n",
    "# write first object in record file into tmp.txt int project root\n",
    "for raw_record in train_records.take(1):\n",
    "  example = tf.train.Example()\n",
    "  example.ParseFromString(raw_record.numpy())\n",
    "  with open('../tmp.txt', 'w') as f:\n",
    "    with redirect_stdout(f):\n",
    "        print(example)"
   ]
  }
 ],
 "metadata": {
  "interpreter": {
   "hash": "ba2a370e0a0b46148d0bc6f0dacc2945484703f96f66df7fdf5d2762f5da2b4c"
  },
  "kernelspec": {
   "display_name": "Python 3.9.12 ('osd')",
   "language": "python",
   "name": "python3"
  },
  "language_info": {
   "codemirror_mode": {
    "name": "ipython",
    "version": 3
   },
   "file_extension": ".py",
   "mimetype": "text/x-python",
   "name": "python",
   "nbconvert_exporter": "python",
   "pygments_lexer": "ipython3",
   "version": "3.9.12"
  }
 },
 "nbformat": 4,
 "nbformat_minor": 2
}
