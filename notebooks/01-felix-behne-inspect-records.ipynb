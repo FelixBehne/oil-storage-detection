{
 "cells": [
  {
   "cell_type": "markdown",
   "metadata": {},
   "source": [
    "# Inspect Tfrecords"
   ]
  },
  {
   "cell_type": "code",
   "execution_count": null,
   "metadata": {},
   "outputs": [],
   "source": [
    "import os\n",
    "\n",
    "os.environ['TF_CPP_MIN_LOG_LEVEL'] = '3' \n",
    "from contextlib import redirect_stdout\n",
    "\n",
    "import tensorflow as tf"
   ]
  },
  {
   "cell_type": "code",
   "execution_count": 3,
   "metadata": {},
   "outputs": [],
   "source": [
    "# read records into python object\n",
    "train_records  = tf.data.TFRecordDataset(\"../data/05_model_input/train.tfrecord\")"
   ]
  },
  {
   "cell_type": "code",
   "execution_count": 4,
   "metadata": {},
   "outputs": [],
   "source": [
    "# print first object in record file to std out\n",
    "# for raw_record in train_records.take(1):\n",
    "#   example = tf.train.Example()\n",
    "#   example.ParseFromString(raw_record.numpy())\n",
    "#   print(example)\n",
    "\n",
    "# write first object in record file into tmp.txt int project root\n",
    "for raw_record in train_records.take(1):\n",
    "  example = tf.train.Example()\n",
    "  example.ParseFromString(raw_record.numpy())\n",
    "  with open('../tmp.txt', 'w') as f:\n",
    "    with redirect_stdout(f):\n",
    "        print(example)"
   ]
  }
 ],
 "metadata": {
  "interpreter": {
   "hash": "ba2a370e0a0b46148d0bc6f0dacc2945484703f96f66df7fdf5d2762f5da2b4c"
  },
  "kernelspec": {
   "display_name": "Python 3.9.12 ('osd')",
   "language": "python",
   "name": "python3"
  },
  "language_info": {
   "codemirror_mode": {
    "name": "ipython",
    "version": 3
   },
   "file_extension": ".py",
   "mimetype": "text/x-python",
   "name": "python",
   "nbconvert_exporter": "python",
   "pygments_lexer": "ipython3",
   "version": "3.9.12"
  },
  "orig_nbformat": 4
 },
 "nbformat": 4,
 "nbformat_minor": 2
}
