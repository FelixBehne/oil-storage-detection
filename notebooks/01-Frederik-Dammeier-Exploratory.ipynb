{
 "cells": [
  {
   "cell_type": "code",
   "execution_count": 1,
   "metadata": {},
   "outputs": [],
   "source": [
    "import tensorflow as tf"
   ]
  },
  {
   "cell_type": "code",
   "execution_count": 2,
   "metadata": {},
   "outputs": [],
   "source": [
    "import keras"
   ]
  },
  {
   "cell_type": "code",
   "execution_count": 10,
   "metadata": {},
   "outputs": [],
   "source": [
    "import pandas as pd\n",
    "import os\n",
    "from sklearn.model_selection import train_test_split"
   ]
  },
  {
   "cell_type": "code",
   "execution_count": 2,
   "metadata": {},
   "outputs": [],
   "source": [
    "df = pd.read_csv(\"../data/01_raw/annotations.csv\")"
   ]
  },
  {
   "cell_type": "code",
   "execution_count": 18,
   "metadata": {},
   "outputs": [
    {
     "data": {
      "text/html": [
       "<div>\n",
       "<style scoped>\n",
       "    .dataframe tbody tr th:only-of-type {\n",
       "        vertical-align: middle;\n",
       "    }\n",
       "\n",
       "    .dataframe tbody tr th {\n",
       "        vertical-align: top;\n",
       "    }\n",
       "\n",
       "    .dataframe thead th {\n",
       "        text-align: right;\n",
       "    }\n",
       "</style>\n",
       "<table border=\"1\" class=\"dataframe\">\n",
       "  <thead>\n",
       "    <tr style=\"text-align: right;\">\n",
       "      <th></th>\n",
       "      <th>image_id</th>\n",
       "      <th>class</th>\n",
       "      <th>bounds</th>\n",
       "    </tr>\n",
       "  </thead>\n",
       "  <tbody>\n",
       "    <tr>\n",
       "      <th>0</th>\n",
       "      <td>0918a15c-8cfb-4da7-92cf-1f5098a76760</td>\n",
       "      <td>oil-storage-tank</td>\n",
       "      <td>(1205, 1493, 1231, 1516)</td>\n",
       "    </tr>\n",
       "    <tr>\n",
       "      <th>1</th>\n",
       "      <td>0918a15c-8cfb-4da7-92cf-1f5098a76760</td>\n",
       "      <td>oil-storage-tank</td>\n",
       "      <td>(1479, 1756, 1507, 1776)</td>\n",
       "    </tr>\n",
       "    <tr>\n",
       "      <th>2</th>\n",
       "      <td>0918a15c-8cfb-4da7-92cf-1f5098a76760</td>\n",
       "      <td>oil-storage-tank</td>\n",
       "      <td>(1478, 1786, 1518, 1815)</td>\n",
       "    </tr>\n",
       "    <tr>\n",
       "      <th>3</th>\n",
       "      <td>0918a15c-8cfb-4da7-92cf-1f5098a76760</td>\n",
       "      <td>oil-storage-tank</td>\n",
       "      <td>(2132, 2163, 2148, 2178)</td>\n",
       "    </tr>\n",
       "    <tr>\n",
       "      <th>4</th>\n",
       "      <td>0918a15c-8cfb-4da7-92cf-1f5098a76760</td>\n",
       "      <td>oil-storage-tank</td>\n",
       "      <td>(2010, 2127, 2024, 2141)</td>\n",
       "    </tr>\n",
       "    <tr>\n",
       "      <th>...</th>\n",
       "      <td>...</td>\n",
       "      <td>...</td>\n",
       "      <td>...</td>\n",
       "    </tr>\n",
       "    <tr>\n",
       "      <th>13587</th>\n",
       "      <td>acda8cfb-ee42-4036-9714-4d55051051dd</td>\n",
       "      <td>oil-storage-tank</td>\n",
       "      <td>(1192, 1934, 1203, 1948)</td>\n",
       "    </tr>\n",
       "    <tr>\n",
       "      <th>13588</th>\n",
       "      <td>e82b10d3-a51c-4be1-b448-4be0f0340aac</td>\n",
       "      <td>oil-storage-tank</td>\n",
       "      <td>(1598, 1649, 1610, 1662)</td>\n",
       "    </tr>\n",
       "    <tr>\n",
       "      <th>13589</th>\n",
       "      <td>e82b10d3-a51c-4be1-b448-4be0f0340aac</td>\n",
       "      <td>oil-storage-tank</td>\n",
       "      <td>(2419, 1495, 2435, 1515)</td>\n",
       "    </tr>\n",
       "    <tr>\n",
       "      <th>13590</th>\n",
       "      <td>e82b10d3-a51c-4be1-b448-4be0f0340aac</td>\n",
       "      <td>oil-storage-tank</td>\n",
       "      <td>(2406, 1522, 2422, 1541)</td>\n",
       "    </tr>\n",
       "    <tr>\n",
       "      <th>13591</th>\n",
       "      <td>da27f98f-d6ec-4f4c-b94e-293ff24becea</td>\n",
       "      <td>oil-storage-tank</td>\n",
       "      <td>(1266, 2204, 1277, 2215)</td>\n",
       "    </tr>\n",
       "  </tbody>\n",
       "</table>\n",
       "<p>13592 rows × 3 columns</p>\n",
       "</div>"
      ],
      "text/plain": [
       "                                   image_id             class  \\\n",
       "0      0918a15c-8cfb-4da7-92cf-1f5098a76760  oil-storage-tank   \n",
       "1      0918a15c-8cfb-4da7-92cf-1f5098a76760  oil-storage-tank   \n",
       "2      0918a15c-8cfb-4da7-92cf-1f5098a76760  oil-storage-tank   \n",
       "3      0918a15c-8cfb-4da7-92cf-1f5098a76760  oil-storage-tank   \n",
       "4      0918a15c-8cfb-4da7-92cf-1f5098a76760  oil-storage-tank   \n",
       "...                                     ...               ...   \n",
       "13587  acda8cfb-ee42-4036-9714-4d55051051dd  oil-storage-tank   \n",
       "13588  e82b10d3-a51c-4be1-b448-4be0f0340aac  oil-storage-tank   \n",
       "13589  e82b10d3-a51c-4be1-b448-4be0f0340aac  oil-storage-tank   \n",
       "13590  e82b10d3-a51c-4be1-b448-4be0f0340aac  oil-storage-tank   \n",
       "13591  da27f98f-d6ec-4f4c-b94e-293ff24becea  oil-storage-tank   \n",
       "\n",
       "                         bounds  \n",
       "0      (1205, 1493, 1231, 1516)  \n",
       "1      (1479, 1756, 1507, 1776)  \n",
       "2      (1478, 1786, 1518, 1815)  \n",
       "3      (2132, 2163, 2148, 2178)  \n",
       "4      (2010, 2127, 2024, 2141)  \n",
       "...                         ...  \n",
       "13587  (1192, 1934, 1203, 1948)  \n",
       "13588  (1598, 1649, 1610, 1662)  \n",
       "13589  (2419, 1495, 2435, 1515)  \n",
       "13590  (2406, 1522, 2422, 1541)  \n",
       "13591  (1266, 2204, 1277, 2215)  \n",
       "\n",
       "[13592 rows x 3 columns]"
      ]
     },
     "execution_count": 18,
     "metadata": {},
     "output_type": "execute_result"
    }
   ],
   "source": [
    "df"
   ]
  },
  {
   "cell_type": "code",
   "execution_count": 43,
   "metadata": {},
   "outputs": [
    {
     "data": {
      "text/plain": [
       "image_id    object\n",
       "class       object\n",
       "bounds      object\n",
       "dtype: object"
      ]
     },
     "execution_count": 43,
     "metadata": {},
     "output_type": "execute_result"
    }
   ],
   "source": [
    "df.dtypes"
   ]
  },
  {
   "cell_type": "code",
   "execution_count": 44,
   "metadata": {},
   "outputs": [],
   "source": [
    "bounds = df.bounds.copy()\n"
   ]
  },
  {
   "cell_type": "code",
   "execution_count": 55,
   "metadata": {},
   "outputs": [
    {
     "data": {
      "text/html": [
       "<div>\n",
       "<style scoped>\n",
       "    .dataframe tbody tr th:only-of-type {\n",
       "        vertical-align: middle;\n",
       "    }\n",
       "\n",
       "    .dataframe tbody tr th {\n",
       "        vertical-align: top;\n",
       "    }\n",
       "\n",
       "    .dataframe thead th {\n",
       "        text-align: right;\n",
       "    }\n",
       "</style>\n",
       "<table border=\"1\" class=\"dataframe\">\n",
       "  <thead>\n",
       "    <tr style=\"text-align: right;\">\n",
       "      <th></th>\n",
       "      <th>image_id</th>\n",
       "      <th>class</th>\n",
       "      <th>bounds</th>\n",
       "      <th>bbox_x1</th>\n",
       "      <th>bbox_y1</th>\n",
       "      <th>bbox_x2</th>\n",
       "      <th>bbox_y2</th>\n",
       "    </tr>\n",
       "  </thead>\n",
       "  <tbody>\n",
       "    <tr>\n",
       "      <th>0</th>\n",
       "      <td>0918a15c-8cfb-4da7-92cf-1f5098a76760</td>\n",
       "      <td>oil-storage-tank</td>\n",
       "      <td>(1205, 1493, 1231, 1516)</td>\n",
       "      <td>1205</td>\n",
       "      <td>1493</td>\n",
       "      <td>1231</td>\n",
       "      <td>1516</td>\n",
       "    </tr>\n",
       "    <tr>\n",
       "      <th>1</th>\n",
       "      <td>0918a15c-8cfb-4da7-92cf-1f5098a76760</td>\n",
       "      <td>oil-storage-tank</td>\n",
       "      <td>(1479, 1756, 1507, 1776)</td>\n",
       "      <td>1479</td>\n",
       "      <td>1756</td>\n",
       "      <td>1507</td>\n",
       "      <td>1776</td>\n",
       "    </tr>\n",
       "    <tr>\n",
       "      <th>2</th>\n",
       "      <td>0918a15c-8cfb-4da7-92cf-1f5098a76760</td>\n",
       "      <td>oil-storage-tank</td>\n",
       "      <td>(1478, 1786, 1518, 1815)</td>\n",
       "      <td>1478</td>\n",
       "      <td>1786</td>\n",
       "      <td>1518</td>\n",
       "      <td>1815</td>\n",
       "    </tr>\n",
       "    <tr>\n",
       "      <th>3</th>\n",
       "      <td>0918a15c-8cfb-4da7-92cf-1f5098a76760</td>\n",
       "      <td>oil-storage-tank</td>\n",
       "      <td>(2132, 2163, 2148, 2178)</td>\n",
       "      <td>2132</td>\n",
       "      <td>2163</td>\n",
       "      <td>2148</td>\n",
       "      <td>2178</td>\n",
       "    </tr>\n",
       "    <tr>\n",
       "      <th>4</th>\n",
       "      <td>0918a15c-8cfb-4da7-92cf-1f5098a76760</td>\n",
       "      <td>oil-storage-tank</td>\n",
       "      <td>(2010, 2127, 2024, 2141)</td>\n",
       "      <td>2010</td>\n",
       "      <td>2127</td>\n",
       "      <td>2024</td>\n",
       "      <td>2141</td>\n",
       "    </tr>\n",
       "    <tr>\n",
       "      <th>...</th>\n",
       "      <td>...</td>\n",
       "      <td>...</td>\n",
       "      <td>...</td>\n",
       "      <td>...</td>\n",
       "      <td>...</td>\n",
       "      <td>...</td>\n",
       "      <td>...</td>\n",
       "    </tr>\n",
       "    <tr>\n",
       "      <th>13587</th>\n",
       "      <td>acda8cfb-ee42-4036-9714-4d55051051dd</td>\n",
       "      <td>oil-storage-tank</td>\n",
       "      <td>(1192, 1934, 1203, 1948)</td>\n",
       "      <td>1192</td>\n",
       "      <td>1934</td>\n",
       "      <td>1203</td>\n",
       "      <td>1948</td>\n",
       "    </tr>\n",
       "    <tr>\n",
       "      <th>13588</th>\n",
       "      <td>e82b10d3-a51c-4be1-b448-4be0f0340aac</td>\n",
       "      <td>oil-storage-tank</td>\n",
       "      <td>(1598, 1649, 1610, 1662)</td>\n",
       "      <td>1598</td>\n",
       "      <td>1649</td>\n",
       "      <td>1610</td>\n",
       "      <td>1662</td>\n",
       "    </tr>\n",
       "    <tr>\n",
       "      <th>13589</th>\n",
       "      <td>e82b10d3-a51c-4be1-b448-4be0f0340aac</td>\n",
       "      <td>oil-storage-tank</td>\n",
       "      <td>(2419, 1495, 2435, 1515)</td>\n",
       "      <td>2419</td>\n",
       "      <td>1495</td>\n",
       "      <td>2435</td>\n",
       "      <td>1515</td>\n",
       "    </tr>\n",
       "    <tr>\n",
       "      <th>13590</th>\n",
       "      <td>e82b10d3-a51c-4be1-b448-4be0f0340aac</td>\n",
       "      <td>oil-storage-tank</td>\n",
       "      <td>(2406, 1522, 2422, 1541)</td>\n",
       "      <td>2406</td>\n",
       "      <td>1522</td>\n",
       "      <td>2422</td>\n",
       "      <td>1541</td>\n",
       "    </tr>\n",
       "    <tr>\n",
       "      <th>13591</th>\n",
       "      <td>da27f98f-d6ec-4f4c-b94e-293ff24becea</td>\n",
       "      <td>oil-storage-tank</td>\n",
       "      <td>(1266, 2204, 1277, 2215)</td>\n",
       "      <td>1266</td>\n",
       "      <td>2204</td>\n",
       "      <td>1277</td>\n",
       "      <td>2215</td>\n",
       "    </tr>\n",
       "  </tbody>\n",
       "</table>\n",
       "<p>13592 rows × 7 columns</p>\n",
       "</div>"
      ],
      "text/plain": [
       "                                   image_id             class  \\\n",
       "0      0918a15c-8cfb-4da7-92cf-1f5098a76760  oil-storage-tank   \n",
       "1      0918a15c-8cfb-4da7-92cf-1f5098a76760  oil-storage-tank   \n",
       "2      0918a15c-8cfb-4da7-92cf-1f5098a76760  oil-storage-tank   \n",
       "3      0918a15c-8cfb-4da7-92cf-1f5098a76760  oil-storage-tank   \n",
       "4      0918a15c-8cfb-4da7-92cf-1f5098a76760  oil-storage-tank   \n",
       "...                                     ...               ...   \n",
       "13587  acda8cfb-ee42-4036-9714-4d55051051dd  oil-storage-tank   \n",
       "13588  e82b10d3-a51c-4be1-b448-4be0f0340aac  oil-storage-tank   \n",
       "13589  e82b10d3-a51c-4be1-b448-4be0f0340aac  oil-storage-tank   \n",
       "13590  e82b10d3-a51c-4be1-b448-4be0f0340aac  oil-storage-tank   \n",
       "13591  da27f98f-d6ec-4f4c-b94e-293ff24becea  oil-storage-tank   \n",
       "\n",
       "                         bounds  bbox_x1  bbox_y1  bbox_x2  bbox_y2  \n",
       "0      (1205, 1493, 1231, 1516)     1205     1493     1231     1516  \n",
       "1      (1479, 1756, 1507, 1776)     1479     1756     1507     1776  \n",
       "2      (1478, 1786, 1518, 1815)     1478     1786     1518     1815  \n",
       "3      (2132, 2163, 2148, 2178)     2132     2163     2148     2178  \n",
       "4      (2010, 2127, 2024, 2141)     2010     2127     2024     2141  \n",
       "...                         ...      ...      ...      ...      ...  \n",
       "13587  (1192, 1934, 1203, 1948)     1192     1934     1203     1948  \n",
       "13588  (1598, 1649, 1610, 1662)     1598     1649     1610     1662  \n",
       "13589  (2419, 1495, 2435, 1515)     2419     1495     2435     1515  \n",
       "13590  (2406, 1522, 2422, 1541)     2406     1522     2422     1541  \n",
       "13591  (1266, 2204, 1277, 2215)     1266     2204     1277     2215  \n",
       "\n",
       "[13592 rows x 7 columns]"
      ]
     },
     "execution_count": 55,
     "metadata": {},
     "output_type": "execute_result"
    }
   ],
   "source": [
    "from ast import literal_eval\n",
    "\n",
    "def expand_bbox_coordinates(row: pd.Series):\n",
    "        bbox_as_tuple = literal_eval(row['bounds'])\n",
    "        row['bbox_x1'] = bbox_as_tuple[0] \n",
    "        row['bbox_y1'] = bbox_as_tuple[1] \n",
    "        row['bbox_x2'] = bbox_as_tuple[2] \n",
    "        row['bbox_y2'] = bbox_as_tuple[3] \n",
    "\n",
    "        return row\n",
    "\n",
    "df.apply(expand_bbox_coordinates, 1)"
   ]
  },
  {
   "cell_type": "code",
   "execution_count": 3,
   "metadata": {},
   "outputs": [
    {
     "data": {
      "text/plain": [
       "138.69387755102042"
      ]
     },
     "execution_count": 3,
     "metadata": {},
     "output_type": "execute_result"
    }
   ],
   "source": [
    "len(df) / 98"
   ]
  },
  {
   "cell_type": "code",
   "execution_count": 20,
   "metadata": {},
   "outputs": [],
   "source": [
    "image_filenames = os.listdir(\"../data/01_raw/images/\")"
   ]
  },
  {
   "cell_type": "code",
   "execution_count": 21,
   "metadata": {},
   "outputs": [
    {
     "data": {
      "text/plain": [
       "98"
      ]
     },
     "execution_count": 21,
     "metadata": {},
     "output_type": "execute_result"
    }
   ],
   "source": [
    "len(image_filenames)"
   ]
  },
  {
   "cell_type": "code",
   "execution_count": 28,
   "metadata": {},
   "outputs": [],
   "source": [
    "image_names = [image_filename[:-4] for image_filename in image_filenames]"
   ]
  },
  {
   "cell_type": "code",
   "execution_count": 74,
   "metadata": {},
   "outputs": [
    {
     "data": {
      "text/html": [
       "<div>\n",
       "<style scoped>\n",
       "    .dataframe tbody tr th:only-of-type {\n",
       "        vertical-align: middle;\n",
       "    }\n",
       "\n",
       "    .dataframe tbody tr th {\n",
       "        vertical-align: top;\n",
       "    }\n",
       "\n",
       "    .dataframe thead th {\n",
       "        text-align: right;\n",
       "    }\n",
       "</style>\n",
       "<table border=\"1\" class=\"dataframe\">\n",
       "  <thead>\n",
       "    <tr style=\"text-align: right;\">\n",
       "      <th></th>\n",
       "      <th>image_id</th>\n",
       "      <th>class</th>\n",
       "      <th>bounds</th>\n",
       "    </tr>\n",
       "  </thead>\n",
       "  <tbody>\n",
       "    <tr>\n",
       "      <th>7205</th>\n",
       "      <td>6ebea6b4-df27-4d4c-a306-406643675cc7</td>\n",
       "      <td>oil-storage-tank</td>\n",
       "      <td>(1435, 1229, 1445, 1239)</td>\n",
       "    </tr>\n",
       "    <tr>\n",
       "      <th>7206</th>\n",
       "      <td>6ebea6b4-df27-4d4c-a306-406643675cc7</td>\n",
       "      <td>oil-storage-tank</td>\n",
       "      <td>(1423, 1223, 1435, 1234)</td>\n",
       "    </tr>\n",
       "    <tr>\n",
       "      <th>7207</th>\n",
       "      <td>6ebea6b4-df27-4d4c-a306-406643675cc7</td>\n",
       "      <td>oil-storage-tank</td>\n",
       "      <td>(1411, 1220, 1423, 1232)</td>\n",
       "    </tr>\n",
       "    <tr>\n",
       "      <th>7208</th>\n",
       "      <td>6ebea6b4-df27-4d4c-a306-406643675cc7</td>\n",
       "      <td>oil-storage-tank</td>\n",
       "      <td>(1402, 1218, 1410, 1228)</td>\n",
       "    </tr>\n",
       "    <tr>\n",
       "      <th>7209</th>\n",
       "      <td>6ebea6b4-df27-4d4c-a306-406643675cc7</td>\n",
       "      <td>oil-storage-tank</td>\n",
       "      <td>(1415, 1234, 1425, 1243)</td>\n",
       "    </tr>\n",
       "    <tr>\n",
       "      <th>...</th>\n",
       "      <td>...</td>\n",
       "      <td>...</td>\n",
       "      <td>...</td>\n",
       "    </tr>\n",
       "    <tr>\n",
       "      <th>7314</th>\n",
       "      <td>6ebea6b4-df27-4d4c-a306-406643675cc7</td>\n",
       "      <td>oil-storage-tank</td>\n",
       "      <td>(1762, 1420, 1766, 1426)</td>\n",
       "    </tr>\n",
       "    <tr>\n",
       "      <th>7315</th>\n",
       "      <td>6ebea6b4-df27-4d4c-a306-406643675cc7</td>\n",
       "      <td>oil-storage-tank</td>\n",
       "      <td>(1762, 1429, 1767, 1434)</td>\n",
       "    </tr>\n",
       "    <tr>\n",
       "      <th>7316</th>\n",
       "      <td>6ebea6b4-df27-4d4c-a306-406643675cc7</td>\n",
       "      <td>oil-storage-tank</td>\n",
       "      <td>(1855, 1575, 1871, 1593)</td>\n",
       "    </tr>\n",
       "    <tr>\n",
       "      <th>7317</th>\n",
       "      <td>6ebea6b4-df27-4d4c-a306-406643675cc7</td>\n",
       "      <td>oil-storage-tank</td>\n",
       "      <td>(1852, 1551, 1868, 1571)</td>\n",
       "    </tr>\n",
       "    <tr>\n",
       "      <th>13331</th>\n",
       "      <td>6ebea6b4-df27-4d4c-a306-406643675cc7</td>\n",
       "      <td>oil-storage-tank</td>\n",
       "      <td>(1397, 1440, 1441, 1485)</td>\n",
       "    </tr>\n",
       "  </tbody>\n",
       "</table>\n",
       "<p>114 rows × 3 columns</p>\n",
       "</div>"
      ],
      "text/plain": [
       "                                   image_id             class  \\\n",
       "7205   6ebea6b4-df27-4d4c-a306-406643675cc7  oil-storage-tank   \n",
       "7206   6ebea6b4-df27-4d4c-a306-406643675cc7  oil-storage-tank   \n",
       "7207   6ebea6b4-df27-4d4c-a306-406643675cc7  oil-storage-tank   \n",
       "7208   6ebea6b4-df27-4d4c-a306-406643675cc7  oil-storage-tank   \n",
       "7209   6ebea6b4-df27-4d4c-a306-406643675cc7  oil-storage-tank   \n",
       "...                                     ...               ...   \n",
       "7314   6ebea6b4-df27-4d4c-a306-406643675cc7  oil-storage-tank   \n",
       "7315   6ebea6b4-df27-4d4c-a306-406643675cc7  oil-storage-tank   \n",
       "7316   6ebea6b4-df27-4d4c-a306-406643675cc7  oil-storage-tank   \n",
       "7317   6ebea6b4-df27-4d4c-a306-406643675cc7  oil-storage-tank   \n",
       "13331  6ebea6b4-df27-4d4c-a306-406643675cc7  oil-storage-tank   \n",
       "\n",
       "                         bounds  \n",
       "7205   (1435, 1229, 1445, 1239)  \n",
       "7206   (1423, 1223, 1435, 1234)  \n",
       "7207   (1411, 1220, 1423, 1232)  \n",
       "7208   (1402, 1218, 1410, 1228)  \n",
       "7209   (1415, 1234, 1425, 1243)  \n",
       "...                         ...  \n",
       "7314   (1762, 1420, 1766, 1426)  \n",
       "7315   (1762, 1429, 1767, 1434)  \n",
       "7316   (1855, 1575, 1871, 1593)  \n",
       "7317   (1852, 1551, 1868, 1571)  \n",
       "13331  (1397, 1440, 1441, 1485)  \n",
       "\n",
       "[114 rows x 3 columns]"
      ]
     },
     "execution_count": 74,
     "metadata": {},
     "output_type": "execute_result"
    }
   ],
   "source": [
    "df[df['image_id'] == image_names[0]]"
   ]
  },
  {
   "cell_type": "code",
   "execution_count": 30,
   "metadata": {},
   "outputs": [],
   "source": [
    "train_image_names, test_image_names = train_test_split(image_names, test_size=0.2)\n",
    "val_image_names, test_image_names = train_test_split(test_image_names, test_size=0.5)"
   ]
  },
  {
   "cell_type": "code",
   "execution_count": 31,
   "metadata": {},
   "outputs": [
    {
     "name": "stdout",
     "output_type": "stream",
     "text": [
      "78\n",
      "10\n",
      "10\n"
     ]
    }
   ],
   "source": [
    "print(len(train_image_names))\n",
    "print(len(val_image_names))\n",
    "print(len(test_image_names))"
   ]
  },
  {
   "cell_type": "code",
   "execution_count": 32,
   "metadata": {},
   "outputs": [
    {
     "data": {
      "text/plain": [
       "['5ffdf3ae-89d3-47b1-be54-3475bf1edcdc',\n",
       " '3542adbf-145b-4986-8f01-76cfffa9dcca',\n",
       " 'e00e4faa-9131-49cf-8fe8-0007f98a9a98',\n",
       " '4380cef3-3879-4bb9-9d21-40bc8100a8fd',\n",
       " '8759c186-080b-4bd5-ad9b-8c4783458dea',\n",
       " '7532ed15-8169-486a-a371-938e6355e893',\n",
       " '47295b17-2b9f-4e89-a547-48eac3a112a7',\n",
       " '8a7f2192-6b21-4fa8-af78-1ace4b66bd49',\n",
       " '22555a1d-f5c6-4e3c-959e-459d8e52dce8',\n",
       " 'e019a7e8-154c-4f3f-946d-a44928dd4075']"
      ]
     },
     "execution_count": 32,
     "metadata": {},
     "output_type": "execute_result"
    }
   ],
   "source": [
    "val_image_names"
   ]
  },
  {
   "cell_type": "code",
   "execution_count": 36,
   "metadata": {},
   "outputs": [],
   "source": [
    "train_df = df[df['image_id'].isin(train_image_names)]\n",
    "valid_df = df[df['image_id'].isin(val_image_names)]\n",
    "test_df = df[df['image_id'].isin(test_image_names)]"
   ]
  },
  {
   "cell_type": "code",
   "execution_count": 38,
   "metadata": {},
   "outputs": [],
   "source": [
    "train_df.to_csv('../data/02_intermediate/annotations/train.csv', index=False)\n",
    "valid_df.to_csv('../data/02_intermediate/annotations/valid.csv', index=False)\n",
    "test_df.to_csv('../data/02_intermediate/annotations/test.csv', index=False)"
   ]
  },
  {
   "cell_type": "code",
   "execution_count": 39,
   "metadata": {},
   "outputs": [],
   "source": [
    "import shutil"
   ]
  },
  {
   "cell_type": "code",
   "execution_count": 40,
   "metadata": {},
   "outputs": [],
   "source": [
    "for image_name in train_image_names:\n",
    "    shutil.copy(f\"../data/01_raw/images/{image_name}.jpg\", f\"../data/02_intermediate/images/train/{image_name}.jpg\")"
   ]
  },
  {
   "cell_type": "code",
   "execution_count": 41,
   "metadata": {},
   "outputs": [],
   "source": [
    "for image_name in val_image_names:\n",
    "    shutil.copy(f\"../data/01_raw/images/{image_name}.jpg\", f\"../data/02_intermediate/images/valid/{image_name}.jpg\")"
   ]
  },
  {
   "cell_type": "code",
   "execution_count": 42,
   "metadata": {},
   "outputs": [],
   "source": [
    "for image_name in test_image_names:\n",
    "    shutil.copy(f\"../data/01_raw/images/{image_name}.jpg\", f\"../data/02_intermediate/images/test/{image_name}.jpg\")"
   ]
  },
  {
   "cell_type": "code",
   "execution_count": 81,
   "metadata": {},
   "outputs": [],
   "source": [
    "from __future__ import annotations\n",
    "from pathlib import Path\n",
    "from object_detection.utils import dataset_util, label_map_util\n",
    "from ast import literal_eval\n",
    "import tensorflow.compat.v1 as tf\n",
    "\n",
    "def create_tf_records_from_files(\n",
    "    image_path: str | Path, annotations_file_path: str | Path, labels_path: str | Path\n",
    "    ) -> list[tf.train.Example]:\n",
    "\n",
    "    image_path = Path(image_path)\n",
    "    annotations_file_path = Path(annotations_file_path)\n",
    "    label_map = label_map_util.load_labelmap(labels_path)\n",
    "\n",
    "    annotations = pd.read_csv(annotations_file_path)\n",
    "\n",
    "    def expand_bbox_coordinates(row: pd.Series):\n",
    "        bbox_as_tuple = literal_eval(row['bounds'])\n",
    "        row['bbox_x1'] = bbox_as_tuple[0] \n",
    "        row['bbox_y1'] = bbox_as_tuple[1] \n",
    "        row['bbox_x2'] = bbox_as_tuple[2] \n",
    "        row['bbox_y2'] = bbox_as_tuple[3] \n",
    "\n",
    "        return row\n",
    "\n",
    "    annotations = annotations.apply(expand_bbox_coordinates, 1)\n",
    "\n",
    "    annotations.drop(['class', 'bounds'], axis=1, inplace=True)\n",
    "\n",
    "    image_filenames = os.listdir(image_path)\n",
    "\n",
    "    tf_records = []\n",
    "\n",
    "    for image_filename in image_filenames:\n",
    "        with tf.gfile.GFile(image_path / image_filename, 'rb') as fid:\n",
    "            encoded_jpg = fid.read()\n",
    "\n",
    "        image_width = 2560\n",
    "        image_height = 2560\n",
    "\n",
    "        filename = image_filename.encode('utf8')\n",
    "        image_format = b'jpg'\n",
    "\n",
    "        annotations_filtered = annotations[annotations['image_id'] == image_filename[:-4]]\n",
    "\n",
    "        xmins = annotations_filtered['bbox_x1'].values\n",
    "        xmaxs = annotations_filtered['bbox_x2'].values\n",
    "        ymins = annotations_filtered['bbox_y1'].values\n",
    "        ymaxs = annotations_filtered['bbox_y2'].values\n",
    "\n",
    "        class_name = 'OST'.encode('utf8')\n",
    "\n",
    "        classes_text = [class_name for i in range(len(xmins))]\n",
    "        classes = [1 for i in range(len(xmins))]\n",
    "        \n",
    "        tf_records.append(\n",
    "            tf.train.Example(\n",
    "                features=tf.train.Features(\n",
    "                    feature={\n",
    "                    'image/height': dataset_util.int64_feature(image_height),\n",
    "                    'image/width': dataset_util.int64_feature(image_width),\n",
    "                    'image/filename': dataset_util.bytes_feature(filename),\n",
    "                    'image/source_id': dataset_util.bytes_feature(filename),\n",
    "                    'image/encoded': dataset_util.bytes_feature(encoded_jpg),\n",
    "                    'image/format': dataset_util.bytes_feature(image_format),\n",
    "                    'image/object/bbox/xmin': dataset_util.float_list_feature(xmins),\n",
    "                    'image/object/bbox/xmax': dataset_util.float_list_feature(xmaxs),\n",
    "                    'image/object/bbox/ymin': dataset_util.float_list_feature(ymins),\n",
    "                    'image/object/bbox/ymax': dataset_util.float_list_feature(ymaxs),\n",
    "                    'image/object/class/text': dataset_util.bytes_list_feature(classes_text),\n",
    "                    'image/object/class/label': dataset_util.int64_list_feature(classes),\n",
    "                    }\n",
    "                )\n",
    "            )\n",
    "        )\n",
    "\n",
    "    return tf_records\n"
   ]
  },
  {
   "cell_type": "code",
   "execution_count": 82,
   "metadata": {},
   "outputs": [],
   "source": [
    "tf_records = create_tf_records_from_files(\n",
    "    '../data/02_intermediate/images/valid/',\n",
    "    '../data/02_intermediate/annotations/valid.csv',\n",
    "    '../data/02_intermediate/annotations/label_map.pbtxt')"
   ]
  },
  {
   "cell_type": "code",
   "execution_count": 84,
   "metadata": {},
   "outputs": [],
   "source": [
    "def save_tf_records_to_file(tf_records: list[tf.train.Example], output_path: str | Path):\n",
    "    writer = tf.python_io.TFRecordWriter(output_path)\n",
    "    \n",
    "    for record in tf_records:\n",
    "        writer.write(record.SerializeToString())\n",
    "    writer.close()"
   ]
  },
  {
   "cell_type": "code",
   "execution_count": 85,
   "metadata": {},
   "outputs": [],
   "source": [
    "save_tf_records_to_file(tf_records, '../data/02_intermediate/annotations/valid.record')"
   ]
  },
  {
   "cell_type": "code",
   "execution_count": 87,
   "metadata": {},
   "outputs": [],
   "source": [
    "tf_train_records = create_tf_records_from_files(\n",
    "    '../data/02_intermediate/images/train/',\n",
    "    '../data/02_intermediate/annotations/train.csv',\n",
    "    '../data/02_intermediate/annotations/label_map.pbtxt')\n",
    "\n",
    "tf_test_records = create_tf_records_from_files(\n",
    "    '../data/02_intermediate/images/test/',\n",
    "    '../data/02_intermediate/annotations/test.csv',\n",
    "    '../data/02_intermediate/annotations/label_map.pbtxt')\n",
    "\n",
    "save_tf_records_to_file(tf_train_records, '../data/02_intermediate/annotations/train.record')\n",
    "\n",
    "save_tf_records_to_file(tf_test_records, '../data/02_intermediate/annotations/test.record')"
   ]
  }
 ],
 "metadata": {
  "interpreter": {
   "hash": "fbc53b2fcbb0cb8e932d4fa73a43da77feb2e3fdcd3424716c612106331cc52f"
  },
  "kernelspec": {
   "display_name": "Python 3.9.12",
   "language": "python",
   "name": "python3"
  },
  "language_info": {
   "codemirror_mode": {
    "name": "ipython",
    "version": 3
   },
   "file_extension": ".py",
   "mimetype": "text/x-python",
   "name": "python",
   "nbconvert_exporter": "python",
   "pygments_lexer": "ipython3",
   "version": "3.9.12"
  },
  "orig_nbformat": 4
 },
 "nbformat": 4,
 "nbformat_minor": 2
}
